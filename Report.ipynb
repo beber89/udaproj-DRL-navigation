{
 "cells": [
  {
   "cell_type": "markdown",
   "id": "marine-trick",
   "metadata": {},
   "source": [
    "## Learning Algorithm\n",
    "\n",
    "---\n"
   ]
  },
  {
   "cell_type": "markdown",
   "id": "legendary-groove",
   "metadata": {},
   "source": [
    "### Model Architecture\n",
    "- Specified in `model.py`\n",
    "- Three fully connected layers\n",
    "- All Relu Activations including the output\n",
    "- It is exactly the same model from coding exercise of Lesson 2 - Deep Q-Networks"
   ]
  },
  {
   "cell_type": "markdown",
   "id": "spoken-reader",
   "metadata": {},
   "source": [
    "### Hyperparameters\n",
    "\n",
    "- RL Discount Factor (GAMMA) = 0.99\n",
    "- Soft update parameter (TAU) = 1e-3\n",
    "- Learning Rate  = 5e-4"
   ]
  },
  {
   "cell_type": "markdown",
   "id": "mexican-powder",
   "metadata": {},
   "source": [
    "## Plot of Rewards (score)\n",
    "\n",
    "---\n",
    "\n",
    "![scores plot](scores-plot.png)"
   ]
  },
  {
   "cell_type": "markdown",
   "id": "hispanic-cartoon",
   "metadata": {},
   "source": [
    "## Future Work\n",
    "\n",
    "---\n",
    "\n",
    "- We basically learned three techniques which I might utilize in order to imporve this\n",
    "- I would suggest to utilize Prioritized Experience Replay in the Future as I assume it will speed up the training process\n",
    "- The network needs to prioritize certain experiences in memory which actually makes a difference for the agent to learn"
   ]
  }
 ],
 "metadata": {
  "kernelspec": {
   "display_name": "Python 3",
   "language": "python",
   "name": "python3"
  },
  "language_info": {
   "codemirror_mode": {
    "name": "ipython",
    "version": 3
   },
   "file_extension": ".py",
   "mimetype": "text/x-python",
   "name": "python",
   "nbconvert_exporter": "python",
   "pygments_lexer": "ipython3",
   "version": "3.6.13"
  }
 },
 "nbformat": 4,
 "nbformat_minor": 5
}
