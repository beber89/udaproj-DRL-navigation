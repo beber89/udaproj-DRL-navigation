{
 "cells": [
  {
   "cell_type": "markdown",
   "id": "marine-trick",
   "metadata": {},
   "source": [
    "## Learning Algorithm\n",
    "\n",
    "---\n"
   ]
  },
  {
   "cell_type": "markdown",
   "id": "legendary-groove",
   "metadata": {},
   "source": [
    "### Model Architecture\n",
    "- Specified in `model.py` which represents a Neural Network\n",
    "- Three fully connected (FC) layers \n",
    "- All Relu Activations including the output\n",
    "- Input (37 nodes) > FC (64 nodes) > Relu > FC (64 nodes) > Relu > FC (4 nodes) > Output\n",
    "- Optimization algorithm is ADAM optimizer\n",
    "- It is exactly the same model from coding exercise of Lesson 2 - Deep Q-Networks"
   ]
  },
  {
   "cell_type": "markdown",
   "id": "spoken-reader",
   "metadata": {},
   "source": [
    "### Hyperparameters\n",
    "\n",
    "- RL Discount Factor (GAMMA) = 0.99\n",
    "- Soft update parameter (TAU) = 1e-3\n",
    "- LEARNING_RATE  = 5e-4\n",
    "- Memory Replay Buffer (BUFFER_SIZE) = 1e5\n",
    "- Mini-batch (BATCH_SIZE) = 64\n",
    "- UPDATE_EVERY = 4"
   ]
  },
  {
   "cell_type": "markdown",
   "id": "mexican-powder",
   "metadata": {},
   "source": [
    "## Plot of Rewards (score)\n",
    "\n",
    "---\n",
    "\n",
    "![scores plot](scores-plot.png)\n",
    "### Scores history\n",
    "- As shown in the following figure the agent started to reach the set goal on the 473rd episode\n",
    "- The average scores remains over 13\n",
    "\n",
    "\n",
    "![scores history](training-scores-.png)\n"
   ]
  },
  {
   "cell_type": "markdown",
   "id": "hispanic-cartoon",
   "metadata": {},
   "source": [
    "## Future Work\n",
    "\n",
    "---\n",
    "\n",
    "- We basically learned three techniques which I might utilize in order to imporve this\n",
    "- I would suggest to utilize Prioritized Experience Replay in the Future as I assume it will speed up the training process\n",
    "- The network needs to prioritize certain experiences in memory which actually makes a difference for the agent to learn"
   ]
  }
 ],
 "metadata": {
  "kernelspec": {
   "display_name": "Python 3",
   "language": "python",
   "name": "python3"
  },
  "language_info": {
   "codemirror_mode": {
    "name": "ipython",
    "version": 3
   },
   "file_extension": ".py",
   "mimetype": "text/x-python",
   "name": "python",
   "nbconvert_exporter": "python",
   "pygments_lexer": "ipython3",
   "version": "3.6.13"
  }
 },
 "nbformat": 4,
 "nbformat_minor": 5
}
